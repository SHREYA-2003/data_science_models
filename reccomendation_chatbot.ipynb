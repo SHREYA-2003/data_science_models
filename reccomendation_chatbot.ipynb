{
  "nbformat": 4,
  "nbformat_minor": 0,
  "metadata": {
    "colab": {
      "provenance": [],
      "authorship_tag": "ABX9TyPt56FEzzoCbT5wa1LDLjof",
      "include_colab_link": true
    },
    "kernelspec": {
      "name": "python3",
      "display_name": "Python 3"
    },
    "language_info": {
      "name": "python"
    }
  },
  "cells": [
    {
      "cell_type": "markdown",
      "metadata": {
        "id": "view-in-github",
        "colab_type": "text"
      },
      "source": [
        "<a href=\"https://colab.research.google.com/github/SHREYA-2003/data_science_models/blob/main/reccomendation_chatbot.ipynb\" target=\"_parent\"><img src=\"https://colab.research.google.com/assets/colab-badge.svg\" alt=\"Open In Colab\"/></a>"
      ]
    },
    {
      "cell_type": "code",
      "source": [
        "!pip install colorama"
      ],
      "metadata": {
        "colab": {
          "base_uri": "https://localhost:8080/"
        },
        "id": "5W6pcb32zXfE",
        "outputId": "53d46cb5-d445-4702-f74c-75a3efece48d"
      },
      "execution_count": 2,
      "outputs": [
        {
          "output_type": "stream",
          "name": "stdout",
          "text": [
            "Collecting colorama\n",
            "  Downloading colorama-0.4.6-py2.py3-none-any.whl.metadata (17 kB)\n",
            "Downloading colorama-0.4.6-py2.py3-none-any.whl (25 kB)\n",
            "Installing collected packages: colorama\n",
            "Successfully installed colorama-0.4.6\n"
          ]
        }
      ]
    },
    {
      "cell_type": "code",
      "execution_count": 3,
      "metadata": {
        "colab": {
          "base_uri": "https://localhost:8080/"
        },
        "id": "EmGzUWTJzS-A",
        "outputId": "02fee87b-2055-411d-e153-f1ff05e25e58"
      },
      "outputs": [
        {
          "output_type": "stream",
          "name": "stdout",
          "text": [
            "Hello! I'm TravelBot.\n",
            "\u001b[33mYour name? shreya\n",
            "Nice to meet you, shreya!\n",
            "\n",
            "I can:\n",
            "- Suggest travel spots (say 'recommendation')\n",
            "- Offer packing tips (say 'packing')\n",
            "- Tell a joke (say 'joke')\n",
            "- Type 'exit' or 'bye' to end.\n",
            "\n",
            "\u001b[33mshreya: packing\n",
            "TravelBot: Where to?\n",
            "\u001b[33mYou: beach\n",
            "TravelBot: How many days?\n",
            "\u001b[33mYou: 3\n",
            "TravelBot: Packing tips for 3 days in beach:\n",
            "- Pack versatile clothes.\n",
            "- Bring chargers/adapters.\n",
            "- Check the weather forecast.\n",
            "\u001b[33mshreya: ok\n",
            "TravelBot: Could you rephrase?\n",
            "\u001b[33mshreya: ok\n",
            "TravelBot: Could you rephrase?\n",
            "\u001b[33mshreya: beach\n",
            "TravelBot: Could you rephrase?\n",
            "\u001b[33mshreya: joke\n",
            "TravelBot: Why don’t programmers like nature? Too many bugs!\n",
            "\u001b[33mshreya: exit\n",
            "TravelBot: Safe travels! Goodbye!\n"
          ]
        }
      ],
      "source": [
        "import re, random\n",
        "from colorama import Fore, init\n",
        "\n",
        "# Initialize colorama (autoreset ensures each print resets after use)\n",
        "init(autoreset=True)\n",
        "\n",
        "# Destination & joke data\n",
        "destinations = {\n",
        "    \"beaches\": [\"Bali\", \"Maldives\", \"Phuket\"],\n",
        "    \"mountains\": [\"Swiss Alps\", \"Rocky Mountains\", \"Himalayas\"],\n",
        "    \"cities\": [\"Tokyo\", \"Paris\", \"New York\"]\n",
        "}\n",
        "\n",
        "jokes = [\n",
        "    \"Why don’t programmers like nature? Too many bugs!\",\n",
        "    \"Why did the computer go to the doctor? Because it had a virus!\",\n",
        "    \"Why do travelers always feel warm? Because of all their hot spots!\"\n",
        "]\n",
        "\n",
        "# Helper function to normalize user input (remove extra spaces, make lowercase)\n",
        "def normalize_input(text):\n",
        "    return re.sub(r\"\\s+\", \" \", text.strip().lower())\n",
        "\n",
        "# Provide travel recommendations (recursive if user rejects suggestions)\n",
        "def recommend():\n",
        "    print(Fore.CYAN + \"TravelBot: Beaches, mountains, or cities?\")\n",
        "    preference = input(Fore.YELLOW + \"You: \")\n",
        "    preference = normalize_input(preference)\n",
        "\n",
        "    if preference in destinations:\n",
        "        suggestion = random.choice(destinations[preference])\n",
        "        print(Fore.GREEN + f\"TravelBot: How about {suggestion}?\")\n",
        "        print(Fore.CYAN + \"TravelBot: Do you like it? (yes/no)\")\n",
        "        answer = input(Fore.YELLOW + \"You: \").lower()\n",
        "\n",
        "        if answer == \"yes\":\n",
        "            print(Fore.GREEN + f\"TravelBot: Awesome! Enjoy {suggestion}!\")\n",
        "        elif answer == \"no\":\n",
        "            print(Fore.RED + \"TravelBot: Let's try another.\")\n",
        "            recommend()\n",
        "        else:\n",
        "            print(Fore.RED + \"TravelBot: I'll suggest again.\")\n",
        "            recommend()\n",
        "    else:\n",
        "        print(Fore.RED + \"TravelBot: Sorry, I don't have that type of destination.\")\n",
        "\n",
        "    show_help()\n",
        "\n",
        "# Offer packing tips based on user’s destination and duration\n",
        "def packing_tips():\n",
        "    print(Fore.CYAN + \"TravelBot: Where to?\")\n",
        "    location = normalize_input(input(Fore.YELLOW + \"You: \"))\n",
        "    print(Fore.CYAN + \"TravelBot: How many days?\")\n",
        "    days = input(Fore.YELLOW + \"You: \")\n",
        "\n",
        "    print(Fore.GREEN + f\"TravelBot: Packing tips for {days} days in {location}:\")\n",
        "    print(Fore.GREEN + \"- Pack versatile clothes.\")\n",
        "    print(Fore.GREEN + \"- Bring chargers/adapters.\")\n",
        "    print(Fore.GREEN + \"- Check the weather forecast.\")\n",
        "\n",
        "# Tell a random joke\n",
        "def tell_joke():\n",
        "    print(Fore.YELLOW + f\"TravelBot: {random.choice(jokes)}\")\n",
        "\n",
        "# Display help menu\n",
        "def show_help():\n",
        "    print(Fore.MAGENTA + \"\\nI can:\")\n",
        "    print(Fore.GREEN + \"- Suggest travel spots (say 'recommendation')\")\n",
        "    print(Fore.GREEN + \"- Offer packing tips (say 'packing')\")\n",
        "    print(Fore.GREEN + \"- Tell a joke (say 'joke')\")\n",
        "    print(Fore.GREEN + \"- Type 'exit' or 'bye' to end.\\n\")\n",
        "\n",
        "# Main chat loop\n",
        "def chat():\n",
        "    print(Fore.CYAN + \"Hello! I'm TravelBot.\")\n",
        "    name = input(Fore.YELLOW + \"Your name? \")\n",
        "    print(Fore.GREEN + f\"Nice to meet you, {name}!\")\n",
        "\n",
        "    show_help()\n",
        "\n",
        "    while True:\n",
        "        user_input = input(Fore.YELLOW + f\"{name}: \")\n",
        "        user_input = normalize_input(user_input)\n",
        "\n",
        "        if \"recommend\" in user_input or \"suggest\" in user_input:\n",
        "            recommend()\n",
        "        elif \"pack\" in user_input or \"packing\" in user_input:\n",
        "            packing_tips()\n",
        "        elif \"joke\" in user_input or \"funny\" in user_input:\n",
        "            tell_joke()\n",
        "        elif \"help\" in user_input:\n",
        "            show_help()\n",
        "        elif \"exit\" in user_input or \"bye\" in user_input:\n",
        "            print(Fore.CYAN + \"TravelBot: Safe travels! Goodbye!\")\n",
        "            break\n",
        "        else:\n",
        "            print(Fore.RED + \"TravelBot: Could you rephrase?\")\n",
        "\n",
        "# Run the chatbot\n",
        "if __name__ == \"__main__\":\n",
        "    chat()\n"
      ]
    }
  ]
}