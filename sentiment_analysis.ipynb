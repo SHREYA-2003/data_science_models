{
  "nbformat": 4,
  "nbformat_minor": 0,
  "metadata": {
    "colab": {
      "provenance": [],
      "authorship_tag": "ABX9TyPBLzrsLE6vI8umxfmkTr6S",
      "include_colab_link": true
    },
    "kernelspec": {
      "name": "python3",
      "display_name": "Python 3"
    },
    "language_info": {
      "name": "python"
    }
  },
  "cells": [
    {
      "cell_type": "markdown",
      "metadata": {
        "id": "view-in-github",
        "colab_type": "text"
      },
      "source": [
        "<a href=\"https://colab.research.google.com/github/SHREYA-2003/data_science_models/blob/main/sentiment_analysis.ipynb\" target=\"_parent\"><img src=\"https://colab.research.google.com/assets/colab-badge.svg\" alt=\"Open In Colab\"/></a>"
      ]
    },
    {
      "cell_type": "code",
      "metadata": {
        "colab": {
          "base_uri": "https://localhost:8080/"
        },
        "id": "c79b907d",
        "outputId": "8973739d-7cd7-44b3-f968-7687735ac921"
      },
      "source": [
        "!pip install colorama"
      ],
      "execution_count": 9,
      "outputs": [
        {
          "output_type": "stream",
          "name": "stdout",
          "text": [
            "Collecting colorama\n",
            "  Downloading colorama-0.4.6-py2.py3-none-any.whl.metadata (17 kB)\n",
            "Downloading colorama-0.4.6-py2.py3-none-any.whl (25 kB)\n",
            "Installing collected packages: colorama\n",
            "Successfully installed colorama-0.4.6\n"
          ]
        }
      ]
    },
    {
      "cell_type": "code",
      "source": [
        "import colorama\n",
        "from colorama import Fore, Style\n",
        "from textblob import TextBlob\n",
        "\n",
        "# Initialize colorama for colored output\n",
        "colorama.init()\n",
        "\n",
        "# Emojis for the start of the program\n",
        "print(f\"{Fore.CYAN}🌟🕵️ Welcome to Sentiment Spy! 🌟{Style.RESET_ALL}\")\n",
        "\n",
        "user_name = input(f\"{Fore.MAGENTA}Please enter your name: {Style.RESET_ALL} \").strip()\n",
        "if not user_name:\n",
        "    user_name = \"Mystery Agent\"  # Fallback if user doesn't provide a name\n",
        "\n",
        "# Store conversation as a list of tuples: (text, polarity, sentiment_type)\n",
        "conversation_history = []\n",
        "\n",
        "print(f\"\\n{Fore.CYAN}Hello, Agent {user_name}!\")\n",
        "print(f\"{Fore.CYAN}Type a Sentence and I will analyze your sentences with TextBlob and show you the sentiment. 🧐\")\n",
        "print(f\"(Type {Fore.YELLOW}'reset'{Fore.CYAN}, {Fore.YELLOW}'history'{Fore.CYAN}, \"\n",
        "      f\"{Fore.YELLOW}'exit'{Fore.CYAN} to quit.){Style.RESET_ALL}\\n\")\n",
        "\n",
        "while True:\n",
        "    user_input = input(f\"{Fore.GREEN}>> {Style.RESET_ALL}\").strip()\n",
        "\n",
        "    if not user_input:\n",
        "        print(f\"{Fore.RED}Please enter some text or a valid command.{Style.RESET_ALL}\")\n",
        "        continue\n",
        "\n",
        "    # Check for commands\n",
        "    if user_input.lower() == \"exit\":\n",
        "        print(f\"\\n{Fore.BLUE}👋 Exiting Sentiment Spy. Farewell, Agent {user_name}! 🕵️{Style.RESET_ALL}\")\n",
        "        break\n",
        "\n",
        "    elif user_input.lower() == \"reset\":\n",
        "        conversation_history.clear()\n",
        "        print(f\"{Fore.CYAN}🔄 All conversation history cleared!{Style.RESET_ALL}\")\n",
        "        continue\n",
        "\n",
        "    elif user_input.lower() == \"history\":\n",
        "        if not conversation_history:\n",
        "            print(f\"{Fore.YELLOW}⚠️ No conversation history yet.{Style.RESET_ALL}\")\n",
        "        else:\n",
        "            print(f\"{Fore.CYAN}📜 Conversation History:{Style.RESET_ALL}\")\n",
        "            for idx, (text, polarity, sentiment_type) in enumerate(conversation_history, start=1):\n",
        "                # Choose color & emoji based on sentiment\n",
        "                if sentiment_type == \"Positive\":\n",
        "                    color = Fore.GREEN\n",
        "                    emoji = \"😊\"\n",
        "                elif sentiment_type == \"Negative\":\n",
        "                    color = Fore.RED\n",
        "                    emoji = \"☹️\"\n",
        "                else:\n",
        "                    color = Fore.YELLOW\n",
        "                    emoji = \"😐\"\n",
        "\n",
        "                print(f\"{idx}. {color}{emoji} {text} \"\n",
        "                      f\"(Polarity: {polarity:.2f}, {sentiment_type}){Style.RESET_ALL}\")\n",
        "        continue\n",
        "\n",
        "    # Analyze sentiment\n",
        "    polarity = TextBlob(user_input).sentiment.polarity\n",
        "    if polarity > 0.25:\n",
        "        sentiment_type = \"Positive\"\n",
        "        color = Fore.GREEN\n",
        "        emoji = \"😊\"\n",
        "    elif polarity < -0.25:\n",
        "        sentiment_type = \"Negative\"\n",
        "        color = Fore.RED\n",
        "        emoji = \"☹️\"\n",
        "    else:\n",
        "        sentiment_type = \"Neutral\"\n",
        "        color = Fore.YELLOW\n",
        "        emoji = \"😐\"\n",
        "\n",
        "    # Store in history\n",
        "    conversation_history.append((user_input, polarity, sentiment_type))\n",
        "\n",
        "    # Print result with color, emojis, and polarity\n",
        "    print(f\"{color}{emoji} {sentiment_type} sentiment detected! \"\n",
        "          f\"(Polarity: {polarity:.2f}){Style.RESET_ALL}\")\n"
      ],
      "metadata": {
        "colab": {
          "base_uri": "https://localhost:8080/"
        },
        "id": "VNoAbHkMMoJI",
        "outputId": "dec12867-b509-49a8-c3f4-eea87d4aa39d"
      },
      "execution_count": 10,
      "outputs": [
        {
          "output_type": "stream",
          "name": "stdout",
          "text": [
            "🌟🕵️ Welcome to Sentiment Spy! 🌟\n",
            "\u001b[35mPlease enter your name: \u001b[0m shreya\n",
            "\n",
            "Hello, Agent shreya!\n",
            "Type a Sentence and I will analyze your sentences with TextBlob and show you the sentiment. 🧐\n",
            "(Type 'reset', 'history', 'exit' to quit.)\n",
            "\n",
            "\u001b[32m>> \u001b[0mi am happy today\n",
            "😊 Positive sentiment detected! (Polarity: 0.80)\n",
            "\u001b[32m>> \u001b[0mi am sad\n",
            "☹️ Negative sentiment detected! (Polarity: -0.50)\n",
            "\u001b[32m>> \u001b[0mi hate people\n",
            "☹️ Negative sentiment detected! (Polarity: -0.80)\n",
            "\u001b[32m>> \u001b[0mexit\n",
            "\n",
            "👋 Exiting Sentiment Spy. Farewell, Agent shreya! 🕵️\n"
          ]
        }
      ]
    },
    {
      "cell_type": "markdown",
      "source": [],
      "metadata": {
        "id": "2sO0LNkzzMzH"
      }
    }
  ]
}